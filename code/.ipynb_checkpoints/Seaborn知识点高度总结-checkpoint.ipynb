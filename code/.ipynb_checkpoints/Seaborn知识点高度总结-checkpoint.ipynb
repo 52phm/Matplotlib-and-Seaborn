{
 "cells": [
  {
   "cell_type": "markdown",
   "metadata": {},
   "source": [
    "### 1、准备数据"
   ]
  },
  {
   "cell_type": "code",
   "execution_count": 9,
   "metadata": {
    "collapsed": true
   },
   "outputs": [],
   "source": [
    "\n"
   ]
  },
  {
   "cell_type": "markdown",
   "metadata": {},
   "source": [
    "### 2、设定画布外观"
   ]
  },
  {
   "cell_type": "code",
   "execution_count": null,
   "metadata": {
    "collapsed": true
   },
   "outputs": [],
   "source": [
    "# --------------------------------\n",
    "知识点0：展示\n",
    "''' \n",
    "设置 %matplotlib inline 和不设置的区别：\n",
    "1、设置，就不用使用 plt.show() 就可以展示图像\n",
    "2、不设置，要展示图像，必须使用 plt.show() 才能展示\n",
    "'''\n",
    "%matplotlib inline\n",
    "\n",
    "# --------------------------------\n",
    "知识点1：Seaborn 样式\n",
    "''' 设置或重置 seaborn 默认值 '''\n",
    "sns.set()  \n",
    "\n",
    "''' 设置画布主题风格 '''\n",
    "sns.set_style(style=None, rc=None)\n",
    "\n",
    "参数介绍\n",
    "--------\n",
    "style: 有五种风格\n",
    "    darkgrid, whitegrid, dark, white, ticks\n",
    "rc: dict\n",
    "    \n",
    "Examples\n",
    "--------\n",
    ">>> set_style(\"whitegrid\")\n",
    ">>> set_style(\"ticks\", {\"xtick.major.size\": 8, \"ytick.major.size\": 8})\n",
    "    \n",
    "''' 用with设置临时样式 '''\n",
    "sns.axes_style('whitegrid')\n",
    "\n",
    "# ---------------------------------\n",
    "知识点2：上下文函数\n",
    "sns.set_context(context=None, font_scale=1, rc=None)\n",
    "\n",
    "文档介绍\n",
    "-----------\n",
    "用来联系上面设置过的图形样式、风格，相当于继承上面的功能\n",
    "\n",
    "参数介绍\n",
    "-----------\n",
    "context: 用来设置怎样的画布效果\n",
    "    paper, notebook, talk, poster\n",
    "    \n",
    "例子\n",
    "--------\n",
    ">>> set_context(\"paper\")\n",
    ">>> set_context(\"talk\", font_scale=1.4)\n",
    ">>> set_context(\"talk\", rc={\"lines.linewidth\": 2})\n",
    "\n",
    "# -------------------------------------\n",
    "知识点3：调色板\n",
    "''' 3-1 '''\n",
    "sns.color_palette(palette=None, n_colors=None, desat=None)\n",
    "\n",
    "参数介绍\n",
    "----------\n",
    "palette: None, string, or sequence, optional\n",
    "可选的有：deep, muted, bright, pastel, dark, colorblind\n",
    "        hls, husl\n",
    "\n",
    "n_colors : int, optional\n",
    "调色板中颜色的数量\n",
    "\n",
    "desat : float, optional\n",
    "按比例使每种颜色去饱和\n",
    "\n",
    "返回值\n",
    "-----------\n",
    "palette : [(R值, G值, B值), (), ()]\n",
    "调色板。行为类似于列表，但可以用作上下文\n",
    "管理器，并拥有一个' ' as_hex ' '方法转换为十六进制颜色\n",
    "\n",
    "''' 3-2 将调色板中的值绘制为水平数组 '''\n",
    "sns.palplot(pal, size=1)\n",
    "\n",
    "\n",
    "''' 3-3 控制颜色的亮度和饱和 '''\n",
    "sns.dark/husl/hls_palette()\n",
    "\n",
    "sns.hls_palette(n_colors=6, h=0.01, l=0.6, s=0.65)\n",
    "参数介绍\n",
    "\n",
    "    n_colors : int，指定多少个颜色\n",
    "    h : float，第一个颜色\n",
    "    l : float，设置图片亮度\n",
    "    s : float，设置图片饱和度\n",
    "\n",
    "''' 3-4 使用xkcd颜色自定义命名颜色 '''\n",
    "colors = [\"windows blue\", \"amber\", \"greyish\"]\n",
    "pal = sns.xkcd_palette(colors=colors)\n",
    "sns.palplot(pal=pal)\n",
    "\n",
    "''' 3-5、连续色板 '''\n",
    ">>>色彩随数据变换，比如数据越来越重要则颜色越来越深\n",
    "sns.palplot(sns.color_palette(\"Blues\"))\n",
    "\n",
    ">>>如果想要翻转渐变，可以在面板名称中添加一个_r后缀\n",
    "sns.palplot(sns.color_palette(\"BuGn_r\"))\n",
    "\n",
    "''' 3-6、色调线性变化 '''\n",
    "sns.cubehelix_palette(n_colors=6, start=0, rot=0.4, \n",
    "                      gamma=1.0, hue=0.8, light=0.85, dark=0.15, \n",
    "                      reverse=False, as_cmap=False)\n",
    "参数介绍\n",
    "----------\n",
    "n_colors : int\n",
    "    Number of colors in the palette.\n",
    "start : float, 0 <= start <= 3\n",
    "    螺旋开始时的颜色\n",
    "rot : float\n",
    "    在调色板范围内围绕色相轮旋转\n",
    "    \n",
    "例子\n",
    "----------\n",
    ">>>pal = sns.cubehelix_palette(8, start=.5, rot=-.75)\n",
    ">>>sns.palplot(pal=pal)\n",
    "\n",
    "''' 3-7 调用定制连续调色板 '''\n",
    "light_palette() 和dark_palette()\n",
    "\n",
    "参数介绍\n",
    "----------\n",
    "'''\n",
    "sns.light/dark_palette(color, n_colors=6, reverse=False, as_cmap=False, input='rgb')\n",
    "\n",
    "Parameters\n",
    "----------\n",
    "color : base color for high values\n",
    "    red,green,yellow,blue\n",
    "n_colors : int, optional\n",
    "    number of colors in the palette\n",
    "reverse : bool, optional\n",
    "    if True, reverse the direction of the blend\n",
    "    \n",
    "'''\n",
    "    \n",
    "例子\n",
    "----------\n",
    ">>>sns.palplot(sns.light_palette(\"green/red/green/yellow\"))\n",
    ">>>sns.palplot(sns.dark_palette(\"purple\"))\n",
    ">>>sns.palplot(sns.light_palette(\"navy\", reverse=True)) # 翻转颜色"
   ]
  },
  {
   "cell_type": "markdown",
   "metadata": {},
   "source": [
    "### 3、使用 Seaborn 绘图"
   ]
  },
  {
   "cell_type": "code",
   "execution_count": null,
   "metadata": {
    "collapsed": true
   },
   "outputs": [],
   "source": [
    "# ------------------------------------\n",
    "知识点3：使用 Seaborn 绘图"
   ]
  },
  {
   "cell_type": "markdown",
   "metadata": {},
   "source": [
    "### 4、深度自定义"
   ]
  },
  {
   "cell_type": "code",
   "execution_count": null,
   "metadata": {
    "collapsed": true
   },
   "outputs": [],
   "source": [
    "# ------------------------------------\n",
    "知识点1：坐标轴线设置\n",
    "sns.despine(fig=None, ax=None, top=True, right=True, \n",
    "             left=False, bottom=False, offset=None, trim=False)\n",
    "\n",
    "参数介绍\n",
    "---------\n",
    "top/right/left/bottom: 布尔值，设置为 True 则删除该方向的坐标轴线\n",
    "offset: 整型或字典型，设置轴线的偏移量，负值向内偏移，正值向外偏移\n",
    "\n",
    "例子\n",
    "---------\n",
    ">>>\n"
   ]
  },
  {
   "cell_type": "markdown",
   "metadata": {},
   "source": [
    "### 5、显示和保存图形"
   ]
  },
  {
   "cell_type": "code",
   "execution_count": null,
   "metadata": {
    "collapsed": true
   },
   "outputs": [],
   "source": [
    "# ------------------------------------\n",
    "知识点5：显示和保存图形"
   ]
  }
 ],
 "metadata": {
  "kernelspec": {
   "display_name": "Python 3",
   "language": "python",
   "name": "python3"
  },
  "language_info": {
   "codemirror_mode": {
    "name": "ipython",
    "version": 3
   },
   "file_extension": ".py",
   "mimetype": "text/x-python",
   "name": "python",
   "nbconvert_exporter": "python",
   "pygments_lexer": "ipython3",
   "version": "3.6.3"
  }
 },
 "nbformat": 4,
 "nbformat_minor": 2
}
