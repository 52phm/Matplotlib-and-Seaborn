{
 "cells": [
  {
   "cell_type": "markdown",
   "metadata": {},
   "source": []
  },
  {
   "cell_type": "code",
   "execution_count": 1,
   "metadata": {
    "collapsed": true
   },
   "outputs": [],
   "source": []
  },
  {
   "cell_type": "code",
   "execution_count": null,
   "metadata": {
    "collapsed": true
   },
   "outputs": [],
   "source": [
    "# ---------------------------------------------\n",
    "绘图步骤：\n",
    "1、准备数据(核心)\n",
    "2、创建图形\n",
    "3、自定义绘图(核心)\n",
    "4、保存图形\n",
    "5、显示图形"
   ]
  },
  {
   "cell_type": "code",
   "execution_count": null,
   "metadata": {
    "collapsed": true
   },
   "outputs": [],
   "source": [
    "# ---------------------------------------------\n",
    "''' 知识点0：创建画布、子图 '''\n",
    "1、创建画布\n",
    "fig = plt.figure(figsize=(10,4))  # 第一种\n",
    "fig, ax = plt.subplots()          # 第二种\n",
    "\n",
    "2、增加子图\n",
    "ax1 = fig.add_subplot(row,col,num)\n",
    "ax2 = fig.add_subplot(221) 等效于 add_subplot(2, 2, 1)\n",
    "代表添加第 2 行第 2 列的第 1 个子图\n"
   ]
  },
  {
   "cell_type": "code",
   "execution_count": null,
   "metadata": {
    "collapsed": true
   },
   "outputs": [],
   "source": [
    "# ---------------------------------------------\n",
    "''' 知识点1：条形图 '''\n",
    "1、语法\n",
    "----------\n",
    "第一种：一个刻度线一个条形图\n",
    "bar(x, height, width, color, align='center')  纵向\n",
    "ax.barh(y, width, height) 横向\n",
    "\n",
    "第二种：一个刻度线多个条形图\n",
    "bar_width = 0.35\n",
    "plt.bar(x, dt2015, label = '2015', bar_width)\n",
    "plt.bar(x + bar_width, dt2016, label = '2016', bar_width)\n",
    "plt.bar(x + 2 * bar_width, dt2016, label = '2017', bar_width)\n",
    "\n",
    "第三种：y 的正轴、负轴显示条形图\n",
    "plt.bar(x, + dt2015, label = '2015') y 的正轴显示\n",
    "plt.bar(x, - dt2015, label = '2015') y 的负轴显示\n",
    "\n",
    "2、参数分析\n",
    "-----------\n",
    "x: 条形图在x轴位置, 某种情况下巧用\"整型\"索引值：df.index.tolist()\n",
    "height: 条形图高度\n",
    "width: 条形图的宽度\n",
    "align: 向哪里对齐，center中心对齐，edge边缘对齐"
   ]
  },
  {
   "cell_type": "code",
   "execution_count": null,
   "metadata": {
    "collapsed": true
   },
   "outputs": [],
   "source": [
    "# ----------------------------------------------\n",
    "''' 知识点2：散点图 '''\n",
    "1、语法\n",
    "ax.scatter(x, y, color='red', marker=\".\")\n",
    "\n",
    "2、参数分析\n",
    "marker=\".\" 是一个标记，ax.plot(x, y, color='', marker=\"o\")"
   ]
  },
  {
   "cell_type": "code",
   "execution_count": null,
   "metadata": {
    "collapsed": true
   },
   "outputs": [],
   "source": [
    "# ----------------------------------------------\n",
    "''' 知识点3：直方图 '''\n",
    "语法参数：\n",
    "ax.hist(x, range(1, 5), bins=20, color)\n",
    "x：必选参数\n",
    "range(1, 5)：可选/可不选参数，代表限定 x 轴的区域(X 轴从 1 开始到 5 结束)\n",
    "bins = 20: 可选/可不选参数,直方图的宽度\n",
    "\n",
    "作用：用于探索某类数据的集中分布，发现某类数据的核心点在哪个值的范围"
   ]
  },
  {
   "cell_type": "code",
   "execution_count": null,
   "metadata": {
    "collapsed": true
   },
   "outputs": [],
   "source": [
    "# ---------------------------------------\n",
    "''' 知识点4：箱形图 '''\n",
    "# 一个画布一个箱型图\n",
    "ax.boxplot(x)\n",
    "# 一个画布多个箱型图\n",
    "ax.boxplot([x1, x2, x3,...])\n",
    "它由五个数值点组成：从下到上\n",
    "0%最小值(min)，25%下四分位数(Q1)，50%中位数(median)，\n",
    "75%上四分位数(Q3)，100%最大值(max)\n",
    "\n",
    "作用：\n",
    "1、直观地识别数据集中的异常值(查看离群点),离群点单独析出\n",
    "2、判断数据离散程度和偏向(观察盒子的长度，上下隔间的形状，以及胡须的长度)\n",
    "3、用于探索某类数据的集中分布"
   ]
  },
  {
   "cell_type": "code",
   "execution_count": null,
   "metadata": {
    "collapsed": true
   },
   "outputs": [],
   "source": [
    "# ---------------------------------------\n",
    "''' 知识点5：饼图 '''\n",
    "1、语法：\n",
    "ax.pie(x, explode=None, labels=None, colors=None, shadow=False, autopct=None,\n",
    "      radius=None, startangle=None)\n",
    "\n",
    "2、参数分析\n",
    "    x: 一般是分类型、占比型数据，数组形式如: x=[1, 2, 4] 或 [[1], [2], [4]]\n",
    "    explode: 各个饼图之间的距离，列表形式如: explode=[0.12, 0.1, 0.04]\n",
    "    labels: 标签, 列表形式如: labels=['pie1', 'pie2', 'pie3'],\n",
    "            一般结合图例 ax.legend(loc='best')\n",
    "    colors: 颜色，数组形式(一维二维都行)\n",
    "    shadow: 布尔值，设置饼图边缘下面呈现一层阴影, 就会显得厚一点\n",
    "    autopct: 控制饼图内百分比设置,可以使用format字符串或者format function\n",
    "             '%1.1f'指小数点前后位数(没有用空格补齐)如：\n",
    "            autopct='%.2f'(单纯显示值); autopct='%.2f%%'(显示值和百分号)\n",
    "    radius: 饼的半径，即饼的大小,如：radius=1.2\n",
    "    startangle: 起始绘制角度,默认图是从x轴正方向逆时针画起,\n",
    "                如：startangle=90 则从y轴正方向画起"
   ]
  },
  {
   "cell_type": "code",
   "execution_count": null,
   "metadata": {
    "collapsed": true
   },
   "outputs": [],
   "source": [
    "# ---------------------------------------\n",
    "''' 知识点6：雷达图 '''\n",
    "# 导入第三方模块\n",
    "import numpy as np\n",
    "import matplotlib.pyplot as plt\n",
    "%matplotlib inline\n",
    "\n",
    "# 中文和负号的正常显示\n",
    "plt.rcParams['font.family'] = 'SimHei'\n",
    "plt.rcParams['axes.unicode_minus'] = False\n",
    "\n",
    "# ------------------------------------------------\n",
    "# 数据处理和准备\n",
    "values = [98, 45, 124, 83, 90, 94] # 数值\n",
    "labels = ['语文', '英语', '数学', '物理', '化学', '生物']  # 标签\n",
    "# 设置雷达图的角度，用于平分切开一个圆面\n",
    "angles = np.linspace(0, 2 * np.pi, len(values), endpoint=False)  # 角度\n",
    "'''\n",
    "—— 拼接数组：\n",
    "# 注意：数组之间形状要一致才可以拼接\n",
    "np.concatenate((a, b), axis=0) 一维数组\n",
    "np.concatenate((c, d), axis=1) 二维数组\n",
    "'''\n",
    "# 为了使雷达图一圈封闭起来，需要下面的步骤, 首尾相连\n",
    "values = np.concatenate((values,[values[0]]))  \n",
    "angles = np.concatenate((angles,[angles[0]]))  \n",
    "print('\\n>>>', values, '\\n>>>', angles)\n",
    "\n",
    "\n",
    "# --------------------------------------------------\n",
    "# 绘图\n",
    "fig = plt.figure()\n",
    "\n",
    "''' 雷达图的核心 '''\n",
    "# polar=True 这里一定要设置为极坐标格式\n",
    "ax = fig.add_subplot(111, polar=True)\n",
    "ax.plot(angles, values, marker='o', color='r', linewidth=2)  # 绘制折线图\n",
    "ax.fill(angles, values, color='b', alpha=0.25)  # 填充蓝色颜色\n",
    "ax.set_thetagrids(angles * 180/np.pi, labels)  # 添加每个特征的标签\n",
    "'''\n",
    "注意：\n",
    "ax.plot(x=angles, y=values, marker='o', linewidth=2)\n",
    "加上 x, y 显示不出线的标记\n",
    "'''\n",
    "\n",
    "# -------------------------------------------------\n",
    "# 其他设置\n",
    "ax.set_ylim(0,150)  # 设置雷达图的范围\n",
    "plt.title('单个学生成绩展示')  # 添加标题\n",
    "ax.grid(True)  # 添加网格线\n"
   ]
  },
  {
   "cell_type": "code",
   "execution_count": null,
   "metadata": {
    "collapsed": true
   },
   "outputs": [],
   "source": [
    "# ---------------------------------------\n",
    "''' 知识点7：plt 与 ax 绘图的异同 '''\n",
    "1、相同：\n",
    "绘图函数的参数用法一样，比如：plt.plot(x, y, color='r') 与 ax.plot(x, y, color='r')\n",
    "其他描述性函数的参数用法一样，比如：plt.legend(loc='best') 与 ax.legend(loc='best')\n",
    "\n",
    "2、不同之处\n",
    "ax 使用 ax 绘图：\n",
    "比如：ax.plot/bar/scatter/hist等()\n",
    "比如：ax.legend/test/annotate/margins/axis/tick_params()\n",
    "比如：ax.set_xlim/ylim/title/xlabel/ylabel/xticks/yticks/xticklabel/yticklabel\n",
    "\n",
    "plt 使用 plt 绘图：\n",
    "比如：plt.plot/bar/scatter/hist等()\n",
    "比如：plt.legend/test/annotate/margins/axis/tick_params()\n",
    "比如：plt.xlim/ylim/title/xlabel/ylabel/xticks/yticks/xticklabel/yticklabel"
   ]
  },
  {
   "cell_type": "code",
   "execution_count": null,
   "metadata": {
    "collapsed": true
   },
   "outputs": [],
   "source": [
    "# --------------------------------------------\n",
    "''' 知识点8： 线形图 '''\n",
    "1、语法分析：ax.plot() 等效于 plt.plot()\n",
    "ax.plot(X, Y, color, label, linewidth, linestyle, \n",
    "        marker, markerfacecolor, markersize\n",
    "        )\n",
    "    \n",
    "2、参数介绍：\n",
    "（1）color/c：线条颜色\n",
    "Example：\n",
    "ax.plot(X, Y, color='b')\n",
    "==========  ========\n",
    "'b'         blue\n",
    "'g'         green\n",
    "'r'         red\n",
    "'c'         cyan\n",
    "'m'         magenta\n",
    "'y'         yellow\n",
    "'k'         black\n",
    "'w'         white\n",
    "==========  ========\n",
    "\n",
    "（2）label：设置图例的标签\n",
    "Example：\n",
    "ax.plot(X, Y, label='women')\n",
    "ax.legend(loc='best')\n",
    "label：自定义设置\n",
    "\n",
    "（3）linewidth/lw：设置线条的宽度\n",
    "Example：\n",
    "ax.plot(X, Y, linewidth=2)\n",
    "linewidth：自定义设置\n",
    "\n",
    "（4）linestyle/ls：线条风格\n",
    "['solid' | 'dashed', 'dashdot', 'dotted' , '-', '--', '-.', ':']\n",
    "\n",
    "（5）marker：线条标记\n",
    "     markerfacecolor/mfc：标记的颜色\n",
    "     markersize/ms：标记的大小\n",
    "Example：\n",
    "ax.plot(X, Y, marker='>', mfc='r', ms=15)     \n",
    "\n",
    "character           description\n",
    "================    =======================\n",
    "``'-'``             solid line style\n",
    "``'--'``            dashed line style\n",
    "``'-.'``            dash-dot line style\n",
    "``':'``             dotted line style\n",
    "``'.'``             point marker\n",
    "``','``             pixel marker\n",
    "``'o'``             circle marker\n",
    "``'v'``             triangle_down marker\n",
    "``'^'``             triangle_up marker\n",
    "``'<'``             triangle_left marker\n",
    "``'>'``             triangle_right marker\n",
    "``'1'``             tri_down marker\n",
    "``'2'``             tri_up marker\n",
    "``'3'``             tri_left marker\n",
    "``'4'``             tri_right marker\n",
    "``'s'``             square marker\n",
    "``'p'``             pentagon marker\n",
    "``'*'``             star marker\n",
    "``'h'``             hexagon1 marker\n",
    "``'H'``             hexagon2 marker\n",
    "``'+'``             plus marker\n",
    "``'x'``             x marker\n",
    "``'D'``             diamond marker\n",
    "``'d'``             thin_diamond marker\n",
    "``'|'``             vline marker\n",
    "``'_'``             hline marker"
   ]
  },
  {
   "cell_type": "code",
   "execution_count": null,
   "metadata": {
    "collapsed": true
   },
   "outputs": [],
   "source": [
    "# ----------------------------------\n",
    "# 折线图\n",
    "plt.plot(sub_data.date, # x轴数据\n",
    "         sub_data.article_reading_times, # y轴数据\n",
    "         linestyle = '-', # 折线类型\n",
    "         linewidth = 2, # 折线宽度\n",
    "         color = '#ff9999', # 折线颜色\n",
    "         marker = 'o', # 点的形状\n",
    "         markersize = 6, # 点的大小\n",
    "         markeredgecolor='black', # 点的边框色\n",
    "         markerfacecolor='#ff9999', # 点的填充色\n",
    "         label = '阅读人次') # 添加标签\n"
   ]
  },
  {
   "cell_type": "code",
   "execution_count": null,
   "metadata": {
    "collapsed": true
   },
   "outputs": [],
   "source": [
    "# ---------------------------------------\n",
    "''' 知识点9：设置中文字体、字体大小 '''\n",
    "(注意: 这里只能用 plt 不能用 ax)\n",
    "1、正常显示中文字体\n",
    "plt.rcParams['font.family'] = 'SimHei'\n",
    "# 解决中文乱码，坐标轴显示不出负值的问题\n",
    "plt.rcParams['font.sans-serif'] =['Microsoft YaHei']\n",
    "plt.rcParams['axes.unicode_minus'] = False\n",
    "\n",
    "2、字体大小\n",
    "plt.rcParams['xtick.labelsize'] = 24\n",
    "plt.rcParams['ytick.labelsize'] = 20\n",
    "plt.rcParams['font.size'] = 15\n"
   ]
  },
  {
   "cell_type": "code",
   "execution_count": null,
   "metadata": {
    "collapsed": true
   },
   "outputs": [],
   "source": [
    "# ---------------------------------------------\n",
    "''' 知识点10：基本信息设置 '''\n",
    "第一种方法：单一\n",
    "tick_positions = range(1,6)\n",
    "ax.set_xticks(tick_positions)\n",
    "ax.set_xticklabels(cols, rotation=45)\n",
    "ax.set_xlabel('Rating Source')\n",
    "ax.set_ylabel('Average Rating')\n",
    "ax.set_title('2015')\n",
    "ax.set_xlim(0, 6)\n",
    "ax.set_ylim(0, 6)\n",
    "ax.grid(True)  添加网格线\n",
    "ax.fill(x, y, color='b', alpha=0.25)  # 填充蓝色颜色\n",
    "\n",
    "第二种方法：统一性\n",
    "ax.set(title='2015',             # 标题\n",
    "       xlabel='Rating Source',   # X 轴标签 \n",
    "       ylabel='Average Rating',  # Y 轴标签\n",
    "       xticks=tick_positions,    # X、Y 轴刻度\n",
    "       xlim=[0, 6], ylim=[0, 6], # X、Y 轴范围限制\n",
    "      )\n",
    "ax.set_xticklabels(labels=['要设置的标签值', ''], rotation=45)  X 轴刻度的标签值"
   ]
  },
  {
   "cell_type": "code",
   "execution_count": null,
   "metadata": {
    "collapsed": true
   },
   "outputs": [],
   "source": [
    "# ---------------------------------------------\n",
    "''' 知识点11：设置坐标轴线 '''\n",
    "1、隐藏坐标轴线\n",
    "ax.spines['top/bottom/left/right'].set_visible(False/True)\n",
    "['top/bottom/left/right']: 代表哪个坐标轴线\n",
    "False/True: False 代表隐藏坐标线，True 代表显现坐标轴线\n",
    "\n",
    "for key,spine in ax1.spines.items():\n",
    "    print(key, '\\t', spine)\n",
    "    spine.set_visible(False)\n",
    "Out:\n",
    "left \t Spine\n",
    "right \t Spine\n",
    "bottom \t Spine\n",
    "top \t Spine\n",
    "\n",
    "2、设置底部边线的位置为 outward\n",
    "ax.spines['bottom'].set_position(('outward', 10))\n",
    "\n",
    "3、隐藏刻度线\n",
    "ax.tick_params(bottom='off', top='off', left='off', right='off')\n",
    "ax.tick_params(bottom='off', left='off')\n",
    "\n",
    "4、隐藏刻度线、坐标轴线、刻度值\n",
    "ax.axis('off')\n",
    "\n",
    "5、设置内边距\n",
    "ax.margins(x=0.2, y=0.3)"
   ]
  },
  {
   "cell_type": "code",
   "execution_count": null,
   "metadata": {
    "collapsed": true
   },
   "outputs": [],
   "source": [
    "# ----------------------------------------------\n",
    "''' 知识点12：子图之间距离的调整 '''\n",
    "1、可以调整画布的大小：\n",
    "fig = plt.figure(figsize=(5, 10))\n",
    "figsize=(宽度, 高度)\n",
    "\n",
    "2、子图间距函数\n",
    "fig.subplots_adjust(wspace=5,\n",
    "                    hspace=0.3, \n",
    "                    left=0.125,\n",
    "                    right=0.9,\n",
    "                    top=3,\n",
    "                    bottom=0.1\n",
    "                   )\n",
    "\n",
    "3、\n",
    "fig.tight_layout(renderer=None, pad=1.3, h_pad=1.2, w_pad=1.2, rect=None)\n",
    "\n",
    "\n",
    "经验：\n",
    "把 top 和 right 调大到 4 左右\n",
    "而 bottom 和 left 应当调小至 1 左右\n",
    "top 控制高度，right控制宽度"
   ]
  },
  {
   "cell_type": "code",
   "execution_count": null,
   "metadata": {
    "collapsed": true
   },
   "outputs": [],
   "source": [
    "# ------------------------------------\n",
    "''' 知识点13：图例设置 '''\n",
    "\n",
    "第一：设置图例标签名，plt.plot(label='图例标签名')\n",
    "\n",
    "第二：设置图例放置的位置，plt.legend(loc='放置的位置')\n",
    "\n",
    "loc 的参数有：\n",
    "\n",
    "        ===============   =============\n",
    "        Location String   Location Code\n",
    "        ===============   =============\n",
    "        'best'            0\n",
    "        'upper right'     1\n",
    "        'upper left'      2\n",
    "        'lower left'      3\n",
    "        'lower right'     4\n",
    "        'right'           5\n",
    "        'center left'     6\n",
    "        'center right'    7\n",
    "        'lower center'    8\n",
    "        'upper center'    9\n",
    "        'center'          10\n",
    "        ===============   ============="
   ]
  },
  {
   "cell_type": "code",
   "execution_count": null,
   "metadata": {
    "collapsed": true
   },
   "outputs": [],
   "source": [
    "# ----------------------------------------\n",
    "''' 知识点14：图像文本、标注 '''\n",
    "1、文本：\n",
    "ax.text(x, y, s='this is text', fontsize=15)\n",
    "# =============\n",
    "x：x 轴的位置\n",
    "y：y 轴的位置\n",
    "s：设置书写的文本内容\n",
    "fontsize：设置字的大小\n",
    "\n",
    "2、标注：\n",
    "ax.annotate(\n",
    "s='lxz', xy=(1980, 65.1), xytext=(1970, 77.1), xycoords='data',\n",
    "    textcoords='data', color='r', fontsize=20, \n",
    "    arrowprops=dict(arrowstyle=\"->\",connectionstyle='arc3',color='r',)\n",
    ")\n",
    "# =============\n",
    "s：代表要注释的内容（必选参数）\n",
    "xy：（实际点）代表 x、y 轴的位置（必选参数）\n",
    "xytext：（\"注释内容\"的实际位置）调整\"注释内容\"的位置，不设置就默认使用 xy 的位置\n",
    "xycoords：（实际点）默认为 data，代表注释（可选）\n",
    "textcoords：（\"注释内容\"的实际样式）不设置就默认使用 xycoords 的设置（可选）\n",
    "color：注释内容的颜色\n",
    "fontsize：注释内容的字体大小\n",
    "# ============\n",
    "# 设置箭头\n",
    "arrowprops=dict(arrowstyle=\"->\",connectionstyle='arc3',color='r',)\n",
    "arrowstyle：设置箭头样式\n",
    "connectionstyle：连接风格\n",
    "color：箭头颜色\n"
   ]
  }
 ],
 "metadata": {
  "kernelspec": {
   "display_name": "Python 3",
   "language": "python",
   "name": "python3"
  },
  "language_info": {
   "codemirror_mode": {
    "name": "ipython",
    "version": 3
   },
   "file_extension": ".py",
   "mimetype": "text/x-python",
   "name": "python",
   "nbconvert_exporter": "python",
   "pygments_lexer": "ipython3",
   "version": "3.6.3"
  }
 },
 "nbformat": 4,
 "nbformat_minor": 2
}
